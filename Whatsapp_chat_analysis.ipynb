{
  "nbformat": 4,
  "nbformat_minor": 0,
  "metadata": {
    "colab": {
      "name": "Whatsapp chat analysis.ipynb",
      "provenance": [],
      "collapsed_sections": [],
      "authorship_tag": "ABX9TyPTDW0xNqZFqubk7sL9lUnb",
      "include_colab_link": true
    },
    "kernelspec": {
      "name": "python3",
      "display_name": "Python 3"
    }
  },
  "cells": [
    {
      "cell_type": "markdown",
      "metadata": {
        "id": "view-in-github",
        "colab_type": "text"
      },
      "source": [
        "<a href=\"https://colab.research.google.com/github/neha702/WhatsApp-Chat-Analyzer/blob/main/Whatsapp_chat_analysis.ipynb\" target=\"_parent\"><img src=\"https://colab.research.google.com/assets/colab-badge.svg\" alt=\"Open In Colab\"/></a>"
      ]
    },
    {
      "cell_type": "markdown",
      "metadata": {
        "id": "AaeRov2Yn2QH"
      },
      "source": [
        "**NLP chat analysis**"
      ]
    },
    {
      "cell_type": "code",
      "metadata": {
        "id": "0CAmb6JnmiWi"
      },
      "source": [
        "import pandas as pd\r\n",
        "import numpy as np\r\n",
        "import matplotlib.pyplot as plt\r\n",
        "import regex as re\r\n",
        "%matplotlib inline"
      ],
      "execution_count": 111,
      "outputs": []
    },
    {
      "cell_type": "markdown",
      "metadata": {
        "id": "oD5TH37q5-GP"
      },
      "source": [
        "**Detecting if a line starts with date and time format**"
      ]
    },
    {
      "cell_type": "code",
      "metadata": {
        "id": "QQaipHXf6E3F"
      },
      "source": [
        "def date_time(s):\r\n",
        "  pattern='^([0-2][0-9]|(3)[0-1])(\\/)(((0)[0-9])|((1)[0-2]))(\\/)(\\d{2}|\\d{4}), ([0-2][0-9]):([0-5][0-9]) -'\r\n",
        "  result=re.match(pattern,s)\r\n",
        "  if(result):\r\n",
        "    return True\r\n",
        "  return False\r\n"
      ],
      "execution_count": 112,
      "outputs": []
    },
    {
      "cell_type": "markdown",
      "metadata": {
        "id": "lILpQTV-C47f"
      },
      "source": [
        "**Detecting author of a particular message**"
      ]
    },
    {
      "cell_type": "code",
      "metadata": {
        "id": "gUW9KYfFDCPd"
      },
      "source": [
        "def authors(s):\r\n",
        "  pattern= '^((([\\w]+):)|(([\\w]+[\\s]+[\\w]+):)|(([\\w]+[\\s]+[\\w]+[\\s]+[\\w]+):)|(([+]\\d{2} \\d{5} \\d{5}):))'\r\n",
        "  result=re.match(pattern,s)\r\n",
        "  if(result):\r\n",
        "    return True\r\n",
        "  return False"
      ],
      "execution_count": 113,
      "outputs": []
    },
    {
      "cell_type": "markdown",
      "metadata": {
        "id": "7mz28PrVLv6D"
      },
      "source": [
        "**Extracting tokens**"
      ]
    },
    {
      "cell_type": "code",
      "metadata": {
        "id": "VBWw--9dL024"
      },
      "source": [
        "def extract_tokens(s):\r\n",
        "    ans=s.split(' - ')\r\n",
        "    date_time=ans[0]\r\n",
        "    date,time=date_time.split(', ')\r\n",
        "    text=' '.join(ans[1:])\r\n",
        "    if authors(text):\r\n",
        "     author_msg=text.split(': ')\r\n",
        "     author= author_msg[0]\r\n",
        "     message=' '.join(author_msg[1:])\r\n",
        "    else: \r\n",
        "     author=None \r\n",
        "    return date,time,author,message"
      ],
      "execution_count": 114,
      "outputs": []
    },
    {
      "cell_type": "code",
      "metadata": {
        "id": "J2-9XE1tGWEd"
      },
      "source": [
        ""
      ],
      "execution_count": 114,
      "outputs": []
    },
    {
      "cell_type": "markdown",
      "metadata": {
        "id": "7I6PPQBvP0ZL"
      },
      "source": [
        "**Parsing the entire file**"
      ]
    },
    {
      "cell_type": "code",
      "metadata": {
        "id": "2HkZ06umP38o"
      },
      "source": [
        "parsedData = [] # List to keep track of data so it can be used by a Pandas dataframe\r\n",
        "conversationPath = '/content/WhatsApp Chat with Buttercups😘 (1).txt' \r\n",
        "with open(conversationPath, encoding=\"utf-8\") as fp:\r\n",
        "    fp.readline() # Skipping first line of the file (usually contains information about end-to-end encryption)\r\n",
        "        \r\n",
        "    messageBuffer = [] # Buffer to capture intermediate output for multi-line messages\r\n",
        "    date, time, author = None, None, None # Intermediate variables to keep track o the current message being processed\r\n",
        "    \r\n",
        "    while True:\r\n",
        "        line = fp.readline() \r\n",
        "        if not line: # Stop reading further if end of file has been reached\r\n",
        "            break\r\n",
        "        line = line.strip() # Guarding against erroneous leading and trailing whitespaces\r\n",
        "        if date_time(line): # If a line starts with a Date Time pattern, then this indicates the beginning of a new message\r\n",
        "            if len(messageBuffer) > 0: # Check if the message buffer contains characters from previous iterations\r\n",
        "                parsedData.append([date, time, author, ' '.join(messageBuffer)]) # Save the tokens from the previous message in parsedData\r\n",
        "            messageBuffer.clear() # Clear the message buffer so that it can be used for the next message\r\n",
        "            date, time,author,message= extract_tokens(line) # Identify and extract tokens from the line\r\n",
        "            messageBuffer.append(message) # Append message to buffer\r\n",
        "        else:\r\n",
        "            messageBuffer.append(line) # If a line doesn't start with a Date Time pattern, then it is part of a multi-line message. So, just append to buffer\r\n"
      ],
      "execution_count": 115,
      "outputs": []
    },
    {
      "cell_type": "markdown",
      "metadata": {
        "id": "rwKxfS483ayo"
      },
      "source": [
        "**Creating dataframe**"
      ]
    },
    {
      "cell_type": "code",
      "metadata": {
        "colab": {
          "base_uri": "https://localhost:8080/",
          "height": 639
        },
        "id": "dnT0GuEZQQ_U",
        "outputId": "a27ba1af-73a3-4740-ef11-c027961eca88"
      },
      "source": [
        "data=pd.DataFrame(parsedData,columns=['Date','Time','Author','Message'])\r\n",
        "data.head(20)"
      ],
      "execution_count": 116,
      "outputs": [
        {
          "output_type": "execute_result",
          "data": {
            "text/html": [
              "<div>\n",
              "<style scoped>\n",
              "    .dataframe tbody tr th:only-of-type {\n",
              "        vertical-align: middle;\n",
              "    }\n",
              "\n",
              "    .dataframe tbody tr th {\n",
              "        vertical-align: top;\n",
              "    }\n",
              "\n",
              "    .dataframe thead th {\n",
              "        text-align: right;\n",
              "    }\n",
              "</style>\n",
              "<table border=\"1\" class=\"dataframe\">\n",
              "  <thead>\n",
              "    <tr style=\"text-align: right;\">\n",
              "      <th></th>\n",
              "      <th>Date</th>\n",
              "      <th>Time</th>\n",
              "      <th>Author</th>\n",
              "      <th>Message</th>\n",
              "    </tr>\n",
              "  </thead>\n",
              "  <tbody>\n",
              "    <tr>\n",
              "      <th>0</th>\n",
              "      <td>16/02/2021</td>\n",
              "      <td>00:03</td>\n",
              "      <td>Sandhani</td>\n",
              "      <td>Eitu praani offline sun</td>\n",
              "    </tr>\n",
              "    <tr>\n",
              "      <th>1</th>\n",
              "      <td>16/02/2021</td>\n",
              "      <td>00:03</td>\n",
              "      <td>Sandhani</td>\n",
              "      <td>Call t.ase neki</td>\n",
              "    </tr>\n",
              "    <tr>\n",
              "      <th>2</th>\n",
              "      <td>16/02/2021</td>\n",
              "      <td>00:03</td>\n",
              "      <td>Kangkana</td>\n",
              "      <td>busy ase🧐🧐</td>\n",
              "    </tr>\n",
              "    <tr>\n",
              "      <th>3</th>\n",
              "      <td>16/02/2021</td>\n",
              "      <td>00:04</td>\n",
              "      <td>Neha Das</td>\n",
              "      <td>O nai</td>\n",
              "    </tr>\n",
              "    <tr>\n",
              "      <th>4</th>\n",
              "      <td>16/02/2021</td>\n",
              "      <td>00:04</td>\n",
              "      <td>Neha Das</td>\n",
              "      <td>Prapti e phone korisil😂😂</td>\n",
              "    </tr>\n",
              "    <tr>\n",
              "      <th>5</th>\n",
              "      <td>16/02/2021</td>\n",
              "      <td>00:04</td>\n",
              "      <td>Neha Das</td>\n",
              "      <td>Thank you everyone💓💓🤭</td>\n",
              "    </tr>\n",
              "    <tr>\n",
              "      <th>6</th>\n",
              "      <td>16/02/2021</td>\n",
              "      <td>00:07</td>\n",
              "      <td>Sandhani</td>\n",
              "      <td>Janisiliue</td>\n",
              "    </tr>\n",
              "    <tr>\n",
              "      <th>7</th>\n",
              "      <td>16/02/2021</td>\n",
              "      <td>00:09</td>\n",
              "      <td>Neha Das</td>\n",
              "      <td>Moi hyi aasilu tai phone korute he khar paalu😂😂</td>\n",
              "    </tr>\n",
              "    <tr>\n",
              "      <th>8</th>\n",
              "      <td>16/02/2021</td>\n",
              "      <td>00:09</td>\n",
              "      <td>Neha Das</td>\n",
              "      <td>Kali korim dia</td>\n",
              "    </tr>\n",
              "    <tr>\n",
              "      <th>9</th>\n",
              "      <td>16/02/2021</td>\n",
              "      <td>00:09</td>\n",
              "      <td>Neha Das</td>\n",
              "      <td>Thank you rey😍😍🤩</td>\n",
              "    </tr>\n",
              "    <tr>\n",
              "      <th>10</th>\n",
              "      <td>16/02/2021</td>\n",
              "      <td>00:21</td>\n",
              "      <td>Kangkana</td>\n",
              "      <td>VID-20210216-WA0005.mp4 (file attached) many m...</td>\n",
              "    </tr>\n",
              "    <tr>\n",
              "      <th>11</th>\n",
              "      <td>16/02/2021</td>\n",
              "      <td>00:24</td>\n",
              "      <td>Neha Das</td>\n",
              "      <td>Thank you🥺💕</td>\n",
              "    </tr>\n",
              "    <tr>\n",
              "      <th>12</th>\n",
              "      <td>16/02/2021</td>\n",
              "      <td>00:27</td>\n",
              "      <td>Kangkana</td>\n",
              "      <td>most welcome🤩njoy ur day💕</td>\n",
              "    </tr>\n",
              "    <tr>\n",
              "      <th>13</th>\n",
              "      <td>16/02/2021</td>\n",
              "      <td>00:29</td>\n",
              "      <td>Neha Das</td>\n",
              "      <td>🤭🤭</td>\n",
              "    </tr>\n",
              "    <tr>\n",
              "      <th>14</th>\n",
              "      <td>16/02/2021</td>\n",
              "      <td>00:30</td>\n",
              "      <td>Neha Das</td>\n",
              "      <td>Aahiba aaji sobe🥺</td>\n",
              "    </tr>\n",
              "    <tr>\n",
              "      <th>15</th>\n",
              "      <td>16/02/2021</td>\n",
              "      <td>00:32</td>\n",
              "      <td>Kangkana</td>\n",
              "      <td>goi asu pam a sua🤭</td>\n",
              "    </tr>\n",
              "    <tr>\n",
              "      <th>16</th>\n",
              "      <td>16/02/2021</td>\n",
              "      <td>00:33</td>\n",
              "      <td>Monalisa</td>\n",
              "      <td>Bidisha ba k u disu ha 😅</td>\n",
              "    </tr>\n",
              "    <tr>\n",
              "      <th>17</th>\n",
              "      <td>16/02/2021</td>\n",
              "      <td>00:33</td>\n",
              "      <td>Monalisa</td>\n",
              "      <td>Ba I hidhisil</td>\n",
              "    </tr>\n",
              "    <tr>\n",
              "      <th>18</th>\n",
              "      <td>16/02/2021</td>\n",
              "      <td>00:33</td>\n",
              "      <td>Monalisa</td>\n",
              "      <td>@917664833920 @916000363625 evergreen video tu...</td>\n",
              "    </tr>\n",
              "    <tr>\n",
              "      <th>19</th>\n",
              "      <td>16/02/2021</td>\n",
              "      <td>00:33</td>\n",
              "      <td>Monalisa</td>\n",
              "      <td>Status</td>\n",
              "    </tr>\n",
              "  </tbody>\n",
              "</table>\n",
              "</div>"
            ],
            "text/plain": [
              "          Date  ...                                            Message\n",
              "0   16/02/2021  ...                            Eitu praani offline sun\n",
              "1   16/02/2021  ...                                    Call t.ase neki\n",
              "2   16/02/2021  ...                                         busy ase🧐🧐\n",
              "3   16/02/2021  ...                                              O nai\n",
              "4   16/02/2021  ...                           Prapti e phone korisil😂😂\n",
              "5   16/02/2021  ...                              Thank you everyone💓💓🤭\n",
              "6   16/02/2021  ...                                         Janisiliue\n",
              "7   16/02/2021  ...    Moi hyi aasilu tai phone korute he khar paalu😂😂\n",
              "8   16/02/2021  ...                                     Kali korim dia\n",
              "9   16/02/2021  ...                                   Thank you rey😍😍🤩\n",
              "10  16/02/2021  ...  VID-20210216-WA0005.mp4 (file attached) many m...\n",
              "11  16/02/2021  ...                                        Thank you🥺💕\n",
              "12  16/02/2021  ...                          most welcome🤩njoy ur day💕\n",
              "13  16/02/2021  ...                                                 🤭🤭\n",
              "14  16/02/2021  ...                                  Aahiba aaji sobe🥺\n",
              "15  16/02/2021  ...                                 goi asu pam a sua🤭\n",
              "16  16/02/2021  ...                           Bidisha ba k u disu ha 😅\n",
              "17  16/02/2021  ...                                      Ba I hidhisil\n",
              "18  16/02/2021  ...  @917664833920 @916000363625 evergreen video tu...\n",
              "19  16/02/2021  ...                                             Status\n",
              "\n",
              "[20 rows x 4 columns]"
            ]
          },
          "metadata": {
            "tags": []
          },
          "execution_count": 116
        }
      ]
    },
    {
      "cell_type": "code",
      "metadata": {
        "colab": {
          "base_uri": "https://localhost:8080/",
          "height": 166
        },
        "id": "8-KrgpQ030BN",
        "outputId": "dcaeb718-ce45-4e2c-cb5c-ab67fbef21d8"
      },
      "source": [
        "data.describe()"
      ],
      "execution_count": 117,
      "outputs": [
        {
          "output_type": "execute_result",
          "data": {
            "text/html": [
              "<div>\n",
              "<style scoped>\n",
              "    .dataframe tbody tr th:only-of-type {\n",
              "        vertical-align: middle;\n",
              "    }\n",
              "\n",
              "    .dataframe tbody tr th {\n",
              "        vertical-align: top;\n",
              "    }\n",
              "\n",
              "    .dataframe thead th {\n",
              "        text-align: right;\n",
              "    }\n",
              "</style>\n",
              "<table border=\"1\" class=\"dataframe\">\n",
              "  <thead>\n",
              "    <tr style=\"text-align: right;\">\n",
              "      <th></th>\n",
              "      <th>Date</th>\n",
              "      <th>Time</th>\n",
              "      <th>Author</th>\n",
              "      <th>Message</th>\n",
              "    </tr>\n",
              "  </thead>\n",
              "  <tbody>\n",
              "    <tr>\n",
              "      <th>count</th>\n",
              "      <td>317</td>\n",
              "      <td>317</td>\n",
              "      <td>317</td>\n",
              "      <td>317</td>\n",
              "    </tr>\n",
              "    <tr>\n",
              "      <th>unique</th>\n",
              "      <td>4</td>\n",
              "      <td>153</td>\n",
              "      <td>4</td>\n",
              "      <td>302</td>\n",
              "    </tr>\n",
              "    <tr>\n",
              "      <th>top</th>\n",
              "      <td>16/02/2021</td>\n",
              "      <td>18:59</td>\n",
              "      <td>Neha Das</td>\n",
              "      <td>😂😂</td>\n",
              "    </tr>\n",
              "    <tr>\n",
              "      <th>freq</th>\n",
              "      <td>165</td>\n",
              "      <td>9</td>\n",
              "      <td>105</td>\n",
              "      <td>5</td>\n",
              "    </tr>\n",
              "  </tbody>\n",
              "</table>\n",
              "</div>"
            ],
            "text/plain": [
              "              Date   Time    Author Message\n",
              "count          317    317       317     317\n",
              "unique           4    153         4     302\n",
              "top     16/02/2021  18:59  Neha Das      😂😂\n",
              "freq           165      9       105       5"
            ]
          },
          "metadata": {
            "tags": []
          },
          "execution_count": 117
        }
      ]
    },
    {
      "cell_type": "markdown",
      "metadata": {
        "id": "_EWfr2E0Ao7J"
      },
      "source": [
        "**Message counts**"
      ]
    },
    {
      "cell_type": "code",
      "metadata": {
        "colab": {
          "base_uri": "https://localhost:8080/",
          "height": 282
        },
        "id": "AnU4dIUW4v5A",
        "outputId": "79d3cc9d-7339-40db-db1f-39683e5a52cf"
      },
      "source": [
        "author_media_messages_value_counts = data['Author'].value_counts()\r\n",
        "author_media_messages_value_counts.plot.barh()"
      ],
      "execution_count": 118,
      "outputs": [
        {
          "output_type": "execute_result",
          "data": {
            "text/plain": [
              "<matplotlib.axes._subplots.AxesSubplot at 0x7f4e4ccb3d68>"
            ]
          },
          "metadata": {
            "tags": []
          },
          "execution_count": 118
        },
        {
          "output_type": "display_data",
          "data": {
            "image/png": "[encoded data removed]",
            "text/plain": [
              "<Figure size 432x288 with 1 Axes>"
            ]
          },
          "metadata": {
            "tags": [],
            "needs_background": "light"
          }
        }
      ]
    },
    {
      "cell_type": "markdown",
      "metadata": {
        "id": "yU6X0yQ-At9E"
      },
      "source": [
        "**Emoji counts**"
      ]
    },
    {
      "cell_type": "code",
      "metadata": {
        "colab": {
          "base_uri": "https://localhost:8080/"
        },
        "id": "-IS3FFui9wlZ",
        "outputId": "50429358-0db0-409e-b983-8808b32b1d1c"
      },
      "source": [
        "pip install emoji--upgrade"
      ],
      "execution_count": 119,
      "outputs": [
        {
          "output_type": "stream",
          "text": [
            "\u001b[31mERROR: Could not find a version that satisfies the requirement emoji--upgrade (from versions: none)\u001b[0m\n",
            "\u001b[31mERROR: No matching distribution found for emoji--upgrade\u001b[0m\n"
          ],
          "name": "stdout"
        }
      ]
    },
    {
      "cell_type": "code",
      "metadata": {
        "id": "2z634HP4BOhK"
      },
      "source": [
        "import emoji\r\n",
        "from collections import Counter"
      ],
      "execution_count": 145,
      "outputs": []
    },
    {
      "cell_type": "code",
      "metadata": {
        "id": "2SQmV9HSMyAv"
      },
      "source": [
        "def split_count(text):\r\n",
        "    emoji_list = []\r\n",
        "    datas = regex.findall(r'[^\\w\\s,]', text)\r\n",
        "    for word in datas:\r\n",
        "        if any(char in emoji.UNICODE_EMOJI[\"en\"] for char in word):\r\n",
        "            emoji_list.append(word)\r\n",
        "    return emoji_list"
      ],
      "execution_count": 154,
      "outputs": []
    },
    {
      "cell_type": "code",
      "metadata": {
        "colab": {
          "base_uri": "https://localhost:8080/"
        },
        "id": "6ApKF6EEM9H_",
        "outputId": "b124db49-6872-41f3-ff79-4b0eca210545"
      },
      "source": [
        "data['emoji'] =data['Message'].apply(split_count)\r\n",
        "emojis = sum(data['emoji'].str.len())\r\n",
        "print(emojis) #Total emoji count"
      ],
      "execution_count": 158,
      "outputs": [
        {
          "output_type": "stream",
          "text": [
            "199\n"
          ],
          "name": "stdout"
        }
      ]
    },
    {
      "cell_type": "code",
      "metadata": {
        "id": "-zZ0Zj2dUk7H",
        "colab": {
          "base_uri": "https://localhost:8080/"
        },
        "outputId": "c97e3027-b19b-4fad-d470-1ba50ef10e6b"
      },
      "source": [
        "#Count of each emoji\r\n",
        "total_emojis_list = list([a for b in data.emoji for a in b])\r\n",
        "emoji_dict = dict(Counter(total_emojis_list))\r\n",
        "emoji_dict = sorted(emoji_dict.items(), key=lambda x: x[1], reverse=True)\r\n",
        "for i in emoji_dict:\r\n",
        "  print(i)"
      ],
      "execution_count": 160,
      "outputs": [
        {
          "output_type": "stream",
          "text": [
            "('😂', 70)\n",
            "('🤣', 39)\n",
            "('😭', 12)\n",
            "('\\U0001f92d', 10)\n",
            "('\\U0001f97a', 8)\n",
            "('😅', 6)\n",
            "('🌚', 6)\n",
            "('\\U0001f929', 5)\n",
            "('😁', 4)\n",
            "('\\U0001f970', 3)\n",
            "('\\U0001f972', 3)\n",
            "('\\U0001f9d0', 2)\n",
            "('💓', 2)\n",
            "('😍', 2)\n",
            "('❤', 2)\n",
            "('💕', 2)\n",
            "('😒', 2)\n",
            "('😬', 2)\n",
            "('😕', 2)\n",
            "('🤧', 1)\n",
            "('😪', 1)\n",
            "('😘', 1)\n",
            "('\\U0001f928', 1)\n",
            "('😐', 1)\n",
            "('🙄', 1)\n",
            "('😆', 1)\n",
            "('✌', 1)\n",
            "('\\U0001f973', 1)\n",
            "('\\U0001f971', 1)\n",
            "('🙈', 1)\n",
            "('😮', 1)\n",
            "('😯', 1)\n",
            "('🙂', 1)\n",
            "('🤷', 1)\n",
            "('🏻', 1)\n",
            "('♀', 1)\n"
          ],
          "name": "stdout"
        }
      ]
    }
  ]
}